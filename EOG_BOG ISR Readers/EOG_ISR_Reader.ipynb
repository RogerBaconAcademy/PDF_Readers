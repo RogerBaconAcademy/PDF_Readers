{
 "cells": [
  {
   "cell_type": "code",
   "execution_count": 1,
   "metadata": {},
   "outputs": [
    {
     "data": {
      "text/plain": [
       "'\\ndef ISR_Reader(file_path, file_list):\\n    df2=pd.DataFrame({\\'school\\':[], \\'test\\':[], \\'state_ID\\':[], \\'name\\':[], \\'grade\\':[], \\'score\\':[], \\'level\\':[]})\\n    for f in file_list:\\n        pdfFileObj = open(file_path / f, \\'rb\\')\\n        pdfReader=PyPDF2.PdfFileReader(pdfFileObj)\\n        df1= pd.DataFrame({\\'school\\':[], \\'test\\':[], \\'state_ID\\':[], \\'name\\':[], \\'grade\\':[], \\'score\\':[], \\'level\\':[]})\\n        for i in range(pdfReader.numPages):\\n            try:\\n                pageObj = pdfReader.getPage(i)\\n                school=re.search(\\'School Name: (.+?)This\\'.replace(\\'\\\\s*\\',\\'\\'),pageObj.extractText()).group(1)\\n                state_ID=re.search(\\'Student ID: (.+?)Student Name:\\'.replace(\\'\\\\s*\\',\\'\\'),pageObj.extractText()).group(1)\\n                name=re.search(\\'Student Name: (.+?)Process Date:\\'.replace(\\'\\\\s*\\',\\'\\'),pageObj.extractText()).group(1)\\n                try:\\n                    grade=re.search(\\'Grade (.+?)Student ID:\\'.replace(\\'\\\\s*\\',\\'\\'),pageObj.extractText()).group(1)[0]\\n                except AttributeError:\\n                    grade=re.search(\\'Grade: (.+?)Student ID:\\'.replace(\\'\\\\s*\\',\\'\\'),pageObj.extractText()).group(1)[0]\\n                try:\\n                    test=re.search(\\'administered End-of-Grade (.+?) test\\'.replace(\\'\\\\s*\\',\\'\\'),pageObj.extractText(), re.IGNORECASE).group(1)\\n                except AttributeError:\\n                    test=re.search(\\'administered End-of-Course (.+?)test\\'.replace(\\'\\\\s*\\',\\'\\'),pageObj.extractText(), re.IGNORECASE).group(1)\\n                try:\\n                    score=re.search(\\'Scale Score (.+?)Students\\'.replace(\\'\\\\s*\\',\\'\\'),pageObj.extractText()).group(1)\\n                except AttributeError:\\n                    score=\"NA\"\\n                try:\\n                    level=re.search(\\'Level (.+?)Scale Score\\'.replace(\\'\\\\s*\\',\\'\\'),pageObj.extractText()).group(1)\\n                except AttributeError:\\n                    level=\"NP\"\\n                df1.loc[len(df1)]=[school.strip(), test.strip(), state_ID.strip(), name.strip(), grade.strip(), score.strip(), level.strip()] \\n            except AttributeError:\\n                next\\n        df2=df2.append(df1, ignore_index=True)\\n    df2.to_csv(file_path / \"EOG_ISR_All.csv\", sep=\",\")\\n'"
      ]
     },
     "execution_count": 1,
     "metadata": {},
     "output_type": "execute_result"
    }
   ],
   "source": [
    "import pandas as pd\n",
    "import numpy as np\n",
    "import os\n",
    "import time\n",
    "import datetime\n",
    "import pathlib\n",
    "from pathlib import Path\n",
    "import PyPDF2\n",
    "import re\n",
    "from typing import List\n",
    "\n",
    "\n",
    "\n",
    "def ISR_Reader(file_path:str, file_list:List[str]):\n",
    "    df2=pd.DataFrame({'school':[], 'test':[], 'state_ID':[], 'name':[], 'grade':[], 'score':[], 'level':[]})\n",
    "    for f in [x for x in file_list if x.endswith(\".pdf\")]:\n",
    "        pdfFileObj = open(file_path / f, 'rb')\n",
    "        pdfReader=PyPDF2.PdfFileReader(pdfFileObj)\n",
    "        df1= pd.DataFrame({'school':[], 'test':[], 'state_ID':[], 'name':[], 'grade':[], 'score':[], 'level':[]})\n",
    "        for i in range(pdfReader.numPages):\n",
    "            try:\n",
    "                pageObj = pdfReader.getPage(i)\n",
    "                school=re.search('School Name: (.+?)This'.replace('\\s*',''),pageObj.extractText()).group(1)\n",
    "                state_ID=re.search('Student ID: (.+?)Student Name:'.replace('\\s*',''),pageObj.extractText()).group(1)\n",
    "                name=re.search('Student Name: (.+?)Process Date:'.replace('\\s*',''),pageObj.extractText()).group(1)\n",
    "                try:\n",
    "                    grade=re.search('Grade (.+?)Student ID:'.replace('\\s*',''),pageObj.extractText()).group(1)[0]\n",
    "                except AttributeError:\n",
    "                    grade=re.search('Grade: (.+?)Student ID:'.replace('\\s*',''),pageObj.extractText()).group(1)[0]\n",
    "                try:\n",
    "                    test=re.search('administered End-of-Grade (.+?) test'.replace('\\s*',''),pageObj.extractText(), re.IGNORECASE).group(1)\n",
    "                except AttributeError:\n",
    "                    try:\n",
    "                        test=re.search('administered End-of-Course (.+?)test'.replace('\\s*',''),pageObj.extractText(), re.IGNORECASE).group(1)\n",
    "                    except AttributeError:\n",
    "                        test=re.search('recently administered (.+?)test'.replace('\\s*',''),pageObj.extractText(), re.IGNORECASE).group(1)\n",
    "                try:\n",
    "                    score=re.search('Scale Score (.+?)Students'.replace('\\s*',''),pageObj.extractText()).group(1)\n",
    "                except AttributeError:\n",
    "                    score=\"NA\"\n",
    "                try:\n",
    "                    level=re.search('Level (.+?)Scale Score'.replace('\\s*',''),pageObj.extractText()).group(1)\n",
    "                except AttributeError:\n",
    "                    level=\"NP\"\n",
    "                df1.loc[len(df1)]=[school.strip(), test.strip(), state_ID.strip(), name.strip(), grade.strip(), score.strip(), level.strip()] \n",
    "            except AttributeError:\n",
    "                next\n",
    "        df2=df2.append(df1, ignore_index=True)\n",
    "    df2.to_csv(file_path / \"EOG_ISR_All.csv\", sep=\",\")\n",
    "\n"
   ]
  },
  {
   "cell_type": "code",
   "execution_count": 2,
   "metadata": {},
   "outputs": [],
   "source": [
    "desktop = Path(\"C:\\\\Users\\\\jcarlson\\\\Desktop\")\n"
   ]
  },
  {
   "cell_type": "code",
   "execution_count": 3,
   "metadata": {},
   "outputs": [
    {
     "name": "stdout",
     "output_type": "stream",
     "text": [
      "Time Elapsed: 0:10:00.198204\n"
     ]
    }
   ],
   "source": [
    "start_time=time.time()\n",
    "\n",
    "ISR_Reader(desktop/'All_CDS_ISR', os.listdir(desktop/'All_CDS_ISR'))\n",
    "\n",
    "end_time=time.time()\n",
    "print(f\"Time Elapsed: {str(datetime.timedelta(seconds=end_time-start_time))}\")"
   ]
  }
 ],
 "metadata": {
  "kernelspec": {
   "display_name": "Python 3",
   "language": "python",
   "name": "python3"
  },
  "language_info": {
   "codemirror_mode": {
    "name": "ipython",
    "version": 3
   },
   "file_extension": ".py",
   "mimetype": "text/x-python",
   "name": "python",
   "nbconvert_exporter": "python",
   "pygments_lexer": "ipython3",
   "version": "3.8.5"
  }
 },
 "nbformat": 4,
 "nbformat_minor": 4
}
