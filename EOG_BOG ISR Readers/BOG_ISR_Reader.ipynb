{
 "cells": [
  {
   "cell_type": "code",
   "execution_count": 1,
   "metadata": {},
   "outputs": [],
   "source": [
    "import pandas as pd\n",
    "import numpy as np\n",
    "import pathlib\n",
    "from pathlib import Path\n",
    "import PyPDF2\n",
    "import re\n",
    "from typing import List\n",
    "\n",
    "\n",
    "def ISR_Reader(file_path:str, file_list:List[str]):\n",
    "    for f in file_list:\n",
    "        pdfFileObj = open(file_path / f, 'rb')\n",
    "        pdfReader=PyPDF2.PdfFileReader(pdfFileObj)\n",
    "        df1= pd.DataFrame({'school':[], 'state_ID':[], 'name':[], 'grade':[], 'score':[], 'level':[]})\n",
    "        for i in range(pdfReader.numPages):\n",
    "            try:\n",
    "                pageObj = pdfReader.getPage(i)\n",
    "                school=re.search('School Name: (.+?)This'.replace('\\s*',''),pageObj.extractText()).group(1)\n",
    "                state_ID=re.search('Student ID: (.+?)Student Name:'.replace('\\s*',''),pageObj.extractText()).group(1)\n",
    "                name=re.search('Student Name: (.+?)Process Date:'.replace('\\s*',''),pageObj.extractText()).group(1)\n",
    "                grade=re.search('Grade (.+?)Student ID:'.replace('\\s*',''),pageObj.extractText()).group(1)[0]\n",
    "                try:\n",
    "                    score=re.search('Scale Score (.+?)Students'.replace('\\s*',''),pageObj.extractText()).group(1)\n",
    "                except AttributeError:\n",
    "                    score=\"NA\"\n",
    "                try:\n",
    "                    level=re.search('Level (.+?)Scale Score'.replace('\\s*',''),pageObj.extractText()).group(1)\n",
    "                except AttributeError:\n",
    "                    level=\"NP\"\n",
    "                df1.loc[len(df1)]=[school, state_ID, name, grade, score, level] \n",
    "            except AttributeError:\n",
    "                next\n",
    "        df1.to_csv(file_path / f\"BOG_ISR_Read_G{f[25]}.csv\", sep=\",\")"
   ]
  },
  {
   "cell_type": "code",
   "execution_count": 2,
   "metadata": {},
   "outputs": [],
   "source": [
    "desktop = Path(\"C:\\\\Users\\\\jcarlson\\\\Desktop\")"
   ]
  },
  {
   "cell_type": "code",
   "execution_count": 3,
   "metadata": {},
   "outputs": [],
   "source": [
    "ISR_Reader(desktop, ['10B000_EOG_Reading_Grade_3_R3G21.pdf'])"
   ]
  }
 ],
 "metadata": {
  "kernelspec": {
   "display_name": "Python 3",
   "language": "python",
   "name": "python3"
  },
  "language_info": {
   "codemirror_mode": {
    "name": "ipython",
    "version": 3
   },
   "file_extension": ".py",
   "mimetype": "text/x-python",
   "name": "python",
   "nbconvert_exporter": "python",
   "pygments_lexer": "ipython3",
   "version": "3.8.5"
  }
 },
 "nbformat": 4,
 "nbformat_minor": 4
}
