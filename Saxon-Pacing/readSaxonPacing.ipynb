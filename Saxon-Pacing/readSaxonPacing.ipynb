{
 "cells": [
  {
   "cell_type": "markdown",
   "id": "2636b156-d992-4cb1-95d6-87ea47638047",
   "metadata": {},
   "source": [
    "<h1>Saxon Pacing Log PDF Reader</h1>"
   ]
  },
  {
   "cell_type": "markdown",
   "id": "ef88b7a0-2558-4d2f-909d-265547eaf242",
   "metadata": {},
   "source": [
    "<h3>python</h3>\n",
    "<p>3.8</p>\n",
    "<h3>requirements</h3>\n",
    "<ul>\n",
    "    <li>numpy==1.18.5\n",
    "    <li>pandas==1.2.4\n",
    "    <li>PyPDF2==1.26.0\n",
    "    <li>termcolor==1.1.0\n",
    "</ul>"
   ]
  },
  {
   "cell_type": "code",
   "execution_count": 5,
   "id": "62da7925-9356-411d-a83c-0a88795ce1b9",
   "metadata": {},
   "outputs": [],
   "source": [
    "# Imports\n",
    "\n",
    "import pandas as pd\n",
    "import numpy as np\n",
    "import PyPDF2\n",
    "import re\n",
    "from termcolor import colored"
   ]
  },
  {
   "cell_type": "code",
   "execution_count": 14,
   "id": "1724714c-6ecd-45ba-b7a8-06ce8a226934",
   "metadata": {},
   "outputs": [],
   "source": [
    "# Document Reader\n",
    "\n",
    "def find_vals(path, ):\n",
    "    pdfFileObj = open(path, 'rb')\n",
    "    pdfReader=PyPDF2.PdfFileReader(pdfFileObj)\n",
    "\n",
    "    allPages = \"\"\n",
    "    for x in range(pdfReader.numPages):\n",
    "        allPages=allPages+str(pdfReader.getPage(x).extractText())\n",
    "    \n",
    "    z = re.findall('LESSON(.+?)OBJECTIVES(.+?)Math Center',allPages.replace('\\n', ' ').replace('•', '|'))  #specify functional regex\n",
    "    \n",
    "    lct = len(re.findall('LESSON', str(allPages))) #verification regex\n",
    "    \n",
    "    print(f\"{path}\\nLessons: {len(re.findall('LESSON', str(allPages)))}\\nLessons Matched: {len(z)}\\n\\t{colored('Pass', 'green') if  lct==len(z) else colored('You may have missed values. Please verify regex!', 'red')}\") #validate \n",
    "    \n",
    "    \n",
    "    ls = []\n",
    "    for tup in z:\n",
    "        ls.append([tup[0],'; '.join(tup[1].replace('™', \"'\").replace('ﬁ', '\"').replace('ﬂ', '\"').replace('Œ', '-').split('|'))])\n",
    "\n",
    "    df = pd.DataFrame({'lesson_code':dict(ls).keys(), 'description':dict(ls).values()})\n",
    "    df.description = df.description.apply(lambda x: x[2:].strip() if x.startswith(' ;') | x.startswith(';') else x.strip()) # remove leading ;\n",
    "    df.description = df.description.apply(lambda x: x[:3].replace(' ', '')+x[3:]) # fix 'I dentify' disjointed leading word issue\n",
    "    \n",
    "    return df"
   ]
  },
  {
   "cell_type": "code",
   "execution_count": 15,
   "id": "4b4d6f11-ae8c-4315-b559-8e8be61aa479",
   "metadata": {
    "collapsed": true,
    "jupyter": {
     "outputs_hidden": true
    },
    "tags": []
   },
   "outputs": [
    {
     "name": "stdout",
     "output_type": "stream",
     "text": [
      "R:\\Data\\Data Dept\\Database\\Data Imports\\2021-22\\curriculum\\Kinder Saxon Lesson Guide.pdf\n",
      "Lessons: 146\n",
      "Lessons Matched: 146\n",
      "\t\u001b[32mPass\u001b[0m\n",
      "R:\\Data\\Data Dept\\Database\\Data Imports\\2021-22\\curriculum\\First Saxon Lesson Guide.pdf\n",
      "Lessons: 164\n",
      "Lessons Matched: 164\n",
      "\t\u001b[32mPass\u001b[0m\n",
      "R:\\Data\\Data Dept\\Database\\Data Imports\\2021-22\\curriculum\\Second Saxon Lesson Guide.pdf\n",
      "Lessons: 163\n",
      "Lessons Matched: 163\n",
      "\t\u001b[32mPass\u001b[0m\n"
     ]
    }
   ],
   "source": [
    "df_k=find_vals('R:\\\\Data\\\\Data Dept\\\\Database\\\\Data Imports\\\\2021-22\\\\curriculum\\Kinder Saxon Lesson Guide.pdf')\n",
    "df_1=find_vals('R:\\\\Data\\\\Data Dept\\\\Database\\\\Data Imports\\\\2021-22\\\\curriculum\\First Saxon Lesson Guide.pdf')\n",
    "df_2=find_vals('R:\\\\Data\\\\Data Dept\\\\Database\\\\Data Imports\\\\2021-22\\\\curriculum\\Second Saxon Lesson Guide.pdf')"
   ]
  },
  {
   "cell_type": "code",
   "execution_count": 11,
   "id": "420d8da0-7018-4ac2-b13e-24acc9ee386c",
   "metadata": {},
   "outputs": [],
   "source": [
    "# Add program code\n",
    "\n",
    "df_k['program_code'] = 'Saxon K'\n",
    "df_1['program_code'] = 'Saxon 1'\n",
    "df_2['program_code'] = 'Saxon 2'"
   ]
  },
  {
   "cell_type": "code",
   "execution_count": 12,
   "id": "2cdf6abf-0eec-48cf-8420-843109cf79cd",
   "metadata": {},
   "outputs": [],
   "source": [
    "df_all = pd.concat([df_k, df_1, df_2], ignore_index=True) # stack data frames\n",
    "df_all['sort_order'] = df_all.index+1  # Add sort order"
   ]
  },
  {
   "cell_type": "code",
   "execution_count": 7,
   "id": "2a033fbb-d32d-469f-9590-e84706457c05",
   "metadata": {},
   "outputs": [],
   "source": [
    "# Export as tab separated\n",
    "\n",
    "df_all.loc[:,['program_code', 'lesson_code', 'description', 'sort_order']].to_csv('R:\\\\Data\\\\Data Dept\\\\Database\\\\Data Imports\\\\2022-23\\\\curriculum\\myFileName.csv', index=False, sep='\\t')"
   ]
  }
 ],
 "metadata": {
  "kernelspec": {
   "display_name": "Python 3 (ipykernel)",
   "language": "python",
   "name": "python3"
  },
  "language_info": {
   "codemirror_mode": {
    "name": "ipython",
    "version": 3
   },
   "file_extension": ".py",
   "mimetype": "text/x-python",
   "name": "python",
   "nbconvert_exporter": "python",
   "pygments_lexer": "ipython3",
   "version": "3.8.12"
  }
 },
 "nbformat": 4,
 "nbformat_minor": 5
}
